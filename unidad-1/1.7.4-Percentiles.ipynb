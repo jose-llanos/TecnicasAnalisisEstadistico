{
 "cells": [
  {
   "cell_type": "code",
   "execution_count": 2,
   "metadata": {},
   "outputs": [
    {
     "name": "stdout",
     "output_type": "stream",
     "text": [
      "Percentil 25% =  158.0\n",
      "Percentil 50% =  170.5\n",
      "Percentil 75% =  181.25\n"
     ]
    }
   ],
   "source": [
    "# Paso 1: Cargar las librerías\n",
    "# Librería para operaciones estadísticas\n",
    "import numpy as np\n",
    "\n",
    "# Paso 2: Cargar los datos\n",
    "datos = [145, 152, 160, 168, 173, 180, 185, 190]\n",
    "\n",
    "# Paso 3: Calcular Percentiles\n",
    "percentil_25= np.percentile(datos, 25)\n",
    "percentil_50= np.percentile(datos, 50)\n",
    "percentil_75= np.percentile(datos, 75)\n",
    "\n",
    "print(\"Percentil 25% = \", percentil_25)\n",
    "print(\"Percentil 50% = \", percentil_50)\n",
    "print(\"Percentil 75% = \", percentil_75)"
   ]
  }
 ],
 "metadata": {
  "kernelspec": {
   "display_name": "Python 3",
   "language": "python",
   "name": "python3"
  },
  "language_info": {
   "codemirror_mode": {
    "name": "ipython",
    "version": 3
   },
   "file_extension": ".py",
   "mimetype": "text/x-python",
   "name": "python",
   "nbconvert_exporter": "python",
   "pygments_lexer": "ipython3",
   "version": "3.9.13"
  },
  "orig_nbformat": 4
 },
 "nbformat": 4,
 "nbformat_minor": 2
}
