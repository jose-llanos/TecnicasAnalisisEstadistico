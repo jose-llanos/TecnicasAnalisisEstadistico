{
 "cells": [
  {
   "cell_type": "code",
   "execution_count": 2,
   "metadata": {},
   "outputs": [
    {
     "name": "stdout",
     "output_type": "stream",
     "text": [
      "Q1 =  32.75\n",
      "Q3 =  48.75\n",
      "El rango intercuartil es =  16.0\n"
     ]
    }
   ],
   "source": [
    "# Paso 1: Cargar las librerías\n",
    "# Librería para operaciones estadísticas\n",
    "import numpy as np\n",
    "\n",
    "# Paso 2: Cargar los datos\n",
    "datos = [28, 30, 32, 35, 40, 42, 45, 50, 55, 60]\n",
    "\n",
    "# Paso 3: Calcular el Rango Intercuartil\n",
    "Q1 = np.percentile(datos, 25)\n",
    "Q3 = np.percentile(datos, 75)\n",
    "  \n",
    "RIC = Q3 - Q1\n",
    "\n",
    "print(\"Q1 = \", Q1)\n",
    "print(\"Q3 = \", Q3)\n",
    "print(\"El rango intercuartil es = \", RIC)\n",
    "\n",
    "\n",
    "\n",
    "\n"
   ]
  }
 ],
 "metadata": {
  "kernelspec": {
   "display_name": "Python 3",
   "language": "python",
   "name": "python3"
  },
  "language_info": {
   "codemirror_mode": {
    "name": "ipython",
    "version": 3
   },
   "file_extension": ".py",
   "mimetype": "text/x-python",
   "name": "python",
   "nbconvert_exporter": "python",
   "pygments_lexer": "ipython3",
   "version": "3.9.13"
  },
  "orig_nbformat": 4
 },
 "nbformat": 4,
 "nbformat_minor": 2
}
