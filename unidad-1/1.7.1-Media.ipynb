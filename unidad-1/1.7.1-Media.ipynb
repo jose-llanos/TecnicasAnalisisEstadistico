{
 "cells": [
  {
   "cell_type": "code",
   "execution_count": 1,
   "metadata": {},
   "outputs": [
    {
     "name": "stdout",
     "output_type": "stream",
     "text": [
      "Media =  30.4\n"
     ]
    }
   ],
   "source": [
    "# Paso 1: Cargar las librerías\n",
    "# Librería para operaciones estadísticas\n",
    "import numpy as np\n",
    "\n",
    "# Paso 2: Cargar los datos\n",
    "datos = [25, 32, 28, 45, 19, 40, 36, 22, 30, 27]\n",
    "\n",
    "# Calcular la Media\n",
    "media = np.mean(datos)\n",
    "print(\"Media = \", media)"
   ]
  }
 ],
 "metadata": {
  "kernelspec": {
   "display_name": "Python 3",
   "language": "python",
   "name": "python3"
  },
  "language_info": {
   "codemirror_mode": {
    "name": "ipython",
    "version": 3
   },
   "file_extension": ".py",
   "mimetype": "text/x-python",
   "name": "python",
   "nbconvert_exporter": "python",
   "pygments_lexer": "ipython3",
   "version": "3.9.13"
  },
  "orig_nbformat": 4
 },
 "nbformat": 4,
 "nbformat_minor": 2
}
