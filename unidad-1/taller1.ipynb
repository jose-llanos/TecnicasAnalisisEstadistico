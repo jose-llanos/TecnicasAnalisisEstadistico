{
 "cells": [
  {
   "attachments": {},
   "cell_type": "markdown",
   "metadata": {},
   "source": [
    "## Taller 1: Estadística Descriptiva\n",
    "\n",
    "#### Acerca del conjunto de datos\n",
    "\n",
    "El conjunto de datos que se utilizará en este taller corresponde a las calificaciones de 36 estudiantes del programa de Ingeniería de Sistenas de una Universidad Colombiana donde se aplicó intervención temprana a través de tutoría grupal y talleres de refuerzo.\n",
    "\n",
    "#### Diccionario de Datos\n",
    "\n",
    "| Variable                                | Tipo             | Descripción |\n",
    "|-----------------------------------------|------------------|-------------|\n",
    "| estudiante                              | Entero           | Identificador del estudiante. |\n",
    "| calificacion_final                      | Decimal          | Calificación final obtenida por el estudiante en el curso. |\n",
    "| porcentaje_asistencia_tutoria_grupal    | Entero           | Porcentaje de asistencias generadas por el estudiante a las tutorias grupales. |\n",
    "| porcentaje_ejercicios_talleres_refuerzo | Entero           | Porcentaje de ejercicios desarrollados por el estudiante en los talleres de refuerzo propuestos durante el curso. |"
   ]
  },
  {
   "cell_type": "markdown",
   "metadata": {},
   "source": [
    "### Nombre del Estudiante: \n",
    "\n",
    "**INGRESE AQUÍ SU NOMBRE...**"
   ]
  },
  {
   "cell_type": "markdown",
   "metadata": {},
   "source": [
    "### Paso 1: Importar las Librerias"
   ]
  },
  {
   "cell_type": "code",
   "execution_count": 1,
   "metadata": {},
   "outputs": [],
   "source": [
    "# Libreria para estadística\n",
    "import numpy as np\n",
    "# Libreria para manejo de datos\n",
    "import pandas as pd\n",
    "# Libreria para calcular la significancia estadística y el coeficiente de correlación\n",
    "from scipy import stats\n",
    "# Libreria para gráficas\n",
    "import matplotlib.pyplot as plt"
   ]
  },
  {
   "attachments": {},
   "cell_type": "markdown",
   "metadata": {},
   "source": [
    "### Paso 2: Cargar datos del grupo"
   ]
  },
  {
   "cell_type": "code",
   "execution_count": 2,
   "metadata": {},
   "outputs": [
    {
     "data": {
      "text/html": [
       "<div>\n",
       "<style scoped>\n",
       "    .dataframe tbody tr th:only-of-type {\n",
       "        vertical-align: middle;\n",
       "    }\n",
       "\n",
       "    .dataframe tbody tr th {\n",
       "        vertical-align: top;\n",
       "    }\n",
       "\n",
       "    .dataframe thead th {\n",
       "        text-align: right;\n",
       "    }\n",
       "</style>\n",
       "<table border=\"1\" class=\"dataframe\">\n",
       "  <thead>\n",
       "    <tr style=\"text-align: right;\">\n",
       "      <th></th>\n",
       "      <th>estudiante</th>\n",
       "      <th>calificacion_final</th>\n",
       "      <th>porcentaje_asistencia_tutoria_grupal</th>\n",
       "      <th>porcentaje_ejercicios_talleres_refuerzo</th>\n",
       "    </tr>\n",
       "  </thead>\n",
       "  <tbody>\n",
       "    <tr>\n",
       "      <th>0</th>\n",
       "      <td>1</td>\n",
       "      <td>3.0</td>\n",
       "      <td>36</td>\n",
       "      <td>100</td>\n",
       "    </tr>\n",
       "    <tr>\n",
       "      <th>1</th>\n",
       "      <td>2</td>\n",
       "      <td>3.1</td>\n",
       "      <td>54</td>\n",
       "      <td>88</td>\n",
       "    </tr>\n",
       "    <tr>\n",
       "      <th>2</th>\n",
       "      <td>3</td>\n",
       "      <td>3.9</td>\n",
       "      <td>45</td>\n",
       "      <td>100</td>\n",
       "    </tr>\n",
       "    <tr>\n",
       "      <th>3</th>\n",
       "      <td>4</td>\n",
       "      <td>3.7</td>\n",
       "      <td>45</td>\n",
       "      <td>100</td>\n",
       "    </tr>\n",
       "    <tr>\n",
       "      <th>4</th>\n",
       "      <td>5</td>\n",
       "      <td>4.6</td>\n",
       "      <td>54</td>\n",
       "      <td>100</td>\n",
       "    </tr>\n",
       "    <tr>\n",
       "      <th>5</th>\n",
       "      <td>6</td>\n",
       "      <td>3.1</td>\n",
       "      <td>18</td>\n",
       "      <td>44</td>\n",
       "    </tr>\n",
       "    <tr>\n",
       "      <th>6</th>\n",
       "      <td>7</td>\n",
       "      <td>3.7</td>\n",
       "      <td>36</td>\n",
       "      <td>100</td>\n",
       "    </tr>\n",
       "    <tr>\n",
       "      <th>7</th>\n",
       "      <td>8</td>\n",
       "      <td>4.6</td>\n",
       "      <td>45</td>\n",
       "      <td>100</td>\n",
       "    </tr>\n",
       "    <tr>\n",
       "      <th>8</th>\n",
       "      <td>9</td>\n",
       "      <td>2.3</td>\n",
       "      <td>18</td>\n",
       "      <td>33</td>\n",
       "    </tr>\n",
       "    <tr>\n",
       "      <th>9</th>\n",
       "      <td>10</td>\n",
       "      <td>2.3</td>\n",
       "      <td>0</td>\n",
       "      <td>0</td>\n",
       "    </tr>\n",
       "  </tbody>\n",
       "</table>\n",
       "</div>"
      ],
      "text/plain": [
       "   estudiante  calificacion_final  porcentaje_asistencia_tutoria_grupal  \\\n",
       "0           1                 3.0                                    36   \n",
       "1           2                 3.1                                    54   \n",
       "2           3                 3.9                                    45   \n",
       "3           4                 3.7                                    45   \n",
       "4           5                 4.6                                    54   \n",
       "5           6                 3.1                                    18   \n",
       "6           7                 3.7                                    36   \n",
       "7           8                 4.6                                    45   \n",
       "8           9                 2.3                                    18   \n",
       "9          10                 2.3                                     0   \n",
       "\n",
       "   porcentaje_ejercicios_talleres_refuerzo  \n",
       "0                                      100  \n",
       "1                                       88  \n",
       "2                                      100  \n",
       "3                                      100  \n",
       "4                                      100  \n",
       "5                                       44  \n",
       "6                                      100  \n",
       "7                                      100  \n",
       "8                                       33  \n",
       "9                                        0  "
      ]
     },
     "execution_count": 2,
     "metadata": {},
     "output_type": "execute_result"
    }
   ],
   "source": [
    "# Se cargan los datos a un DataFrame\n",
    "datos_grupo = pd.read_csv('data/datos_grupo.csv', sep=\";\")\n",
    "datos_grupo.head(10)"
   ]
  },
  {
   "cell_type": "markdown",
   "metadata": {},
   "source": [
    "### Paso 3: Generar las estadísticas"
   ]
  },
  {
   "cell_type": "code",
   "execution_count": 3,
   "metadata": {},
   "outputs": [
    {
     "data": {
      "text/html": [
       "<div>\n",
       "<style scoped>\n",
       "    .dataframe tbody tr th:only-of-type {\n",
       "        vertical-align: middle;\n",
       "    }\n",
       "\n",
       "    .dataframe tbody tr th {\n",
       "        vertical-align: top;\n",
       "    }\n",
       "\n",
       "    .dataframe thead th {\n",
       "        text-align: right;\n",
       "    }\n",
       "</style>\n",
       "<table border=\"1\" class=\"dataframe\">\n",
       "  <thead>\n",
       "    <tr style=\"text-align: right;\">\n",
       "      <th></th>\n",
       "      <th>estudiante</th>\n",
       "      <th>calificacion_final</th>\n",
       "      <th>porcentaje_asistencia_tutoria_grupal</th>\n",
       "      <th>porcentaje_ejercicios_talleres_refuerzo</th>\n",
       "    </tr>\n",
       "  </thead>\n",
       "  <tbody>\n",
       "    <tr>\n",
       "      <th>count</th>\n",
       "      <td>36.000000</td>\n",
       "      <td>36.000000</td>\n",
       "      <td>36.000000</td>\n",
       "      <td>36.00000</td>\n",
       "    </tr>\n",
       "    <tr>\n",
       "      <th>mean</th>\n",
       "      <td>18.500000</td>\n",
       "      <td>3.683333</td>\n",
       "      <td>33.250000</td>\n",
       "      <td>84.75000</td>\n",
       "    </tr>\n",
       "    <tr>\n",
       "      <th>std</th>\n",
       "      <td>10.535654</td>\n",
       "      <td>0.697137</td>\n",
       "      <td>13.404424</td>\n",
       "      <td>30.71005</td>\n",
       "    </tr>\n",
       "    <tr>\n",
       "      <th>min</th>\n",
       "      <td>1.000000</td>\n",
       "      <td>1.900000</td>\n",
       "      <td>0.000000</td>\n",
       "      <td>0.00000</td>\n",
       "    </tr>\n",
       "    <tr>\n",
       "      <th>25%</th>\n",
       "      <td>9.750000</td>\n",
       "      <td>3.250000</td>\n",
       "      <td>27.000000</td>\n",
       "      <td>88.00000</td>\n",
       "    </tr>\n",
       "    <tr>\n",
       "      <th>50%</th>\n",
       "      <td>18.500000</td>\n",
       "      <td>3.700000</td>\n",
       "      <td>36.000000</td>\n",
       "      <td>100.00000</td>\n",
       "    </tr>\n",
       "    <tr>\n",
       "      <th>75%</th>\n",
       "      <td>27.250000</td>\n",
       "      <td>4.200000</td>\n",
       "      <td>45.000000</td>\n",
       "      <td>100.00000</td>\n",
       "    </tr>\n",
       "    <tr>\n",
       "      <th>max</th>\n",
       "      <td>36.000000</td>\n",
       "      <td>4.700000</td>\n",
       "      <td>63.000000</td>\n",
       "      <td>100.00000</td>\n",
       "    </tr>\n",
       "  </tbody>\n",
       "</table>\n",
       "</div>"
      ],
      "text/plain": [
       "       estudiante  calificacion_final  porcentaje_asistencia_tutoria_grupal  \\\n",
       "count   36.000000           36.000000                             36.000000   \n",
       "mean    18.500000            3.683333                             33.250000   \n",
       "std     10.535654            0.697137                             13.404424   \n",
       "min      1.000000            1.900000                              0.000000   \n",
       "25%      9.750000            3.250000                             27.000000   \n",
       "50%     18.500000            3.700000                             36.000000   \n",
       "75%     27.250000            4.200000                             45.000000   \n",
       "max     36.000000            4.700000                             63.000000   \n",
       "\n",
       "       porcentaje_ejercicios_talleres_refuerzo  \n",
       "count                                 36.00000  \n",
       "mean                                  84.75000  \n",
       "std                                   30.71005  \n",
       "min                                    0.00000  \n",
       "25%                                   88.00000  \n",
       "50%                                  100.00000  \n",
       "75%                                  100.00000  \n",
       "max                                  100.00000  "
      ]
     },
     "execution_count": 3,
     "metadata": {},
     "output_type": "execute_result"
    }
   ],
   "source": [
    "# Se generan las estadísticas\n",
    "\n",
    "### INSERTE SU CÓDIGO AQUÍ ###"
   ]
  },
  {
   "cell_type": "code",
   "execution_count": null,
   "metadata": {},
   "outputs": [],
   "source": [
    "# Interpretación de los resultados\n",
    "'''\n",
    "    ESCRIBA SU RESPUESTA AQUÍ...\n",
    "'''"
   ]
  },
  {
   "attachments": {},
   "cell_type": "markdown",
   "metadata": {},
   "source": [
    "### Paso 4: Generar la correlación y significancia estadística entre porcentaje asistencia tutoria grupal y calificación final\n",
    "\n",
    "* Genere la correlación y significancia estadística entre: porcentaje asistencia tutoria grupal y calificación final.\n",
    "* Utilice las funciones correspondientes para: Pearson, Spearman y Kendall.\n",
    "* Interprete los resultados obtenidos."
   ]
  },
  {
   "cell_type": "code",
   "execution_count": 4,
   "metadata": {},
   "outputs": [
    {
     "name": "stdout",
     "output_type": "stream",
     "text": [
      "Correlación Pearson: r=0.3279162802564889, p-value=0.05088760986927212\n",
      "Correlación Spearman: r=0.3152786011733243, p-value=0.06106870100713267\n",
      "Correlación Kendall: r=0.24167325432127926, p-value=0.05700850576840773\n"
     ]
    }
   ],
   "source": [
    "# Cálculo de correlación y significancia con Scipy\n",
    "# Donde:\n",
    "# r = coeficiente de correlación\n",
    "# p-value = test paramétrico de significancia estadística\n",
    "\n",
    "# Hipótesis nula (H0) indica que las variables son independiente (coeficiente de correlación poblaciones igual a 0)\n",
    "# Hipótesis alternativa (H1) indica que existe relación entre las variables (coeficiente de correlación poblacional diferente a 0)\n",
    "# Si p-value es menor a 0.05 se rechaza la H0\n",
    "\n",
    "# ==============================================================================\n",
    "\n",
    "### INSERTE SU CÓDIGO AQUÍ ###"
   ]
  },
  {
   "cell_type": "code",
   "execution_count": 5,
   "metadata": {},
   "outputs": [
    {
     "data": {
      "text/plain": [
       "'\\n    ESCRIBA SU RESPUESTA AQUÍ...\\n'"
      ]
     },
     "execution_count": 5,
     "metadata": {},
     "output_type": "execute_result"
    }
   ],
   "source": [
    "# Interpretación de los resultados\n",
    "'''\n",
    "    ESCRIBA SU RESPUESTA AQUÍ...\n",
    "'''"
   ]
  },
  {
   "attachments": {},
   "cell_type": "markdown",
   "metadata": {},
   "source": [
    "### Paso 5: Genere la gráfica de porcentaje asistencia tutoria grupal VS calificación final\n",
    "\n",
    "* Genere una gráfica de puntos entre: porcentaje asistencia tutoria grupal VS calificación final\n",
    "* Adicione una recta de color verde que separe los estudiantes que aprobaron el curso de los que no aprobaron\n",
    "* Interprete la gráfica obtenida\n",
    "\n",
    "Nota: Recuerde que para aprobar el curso es necesario obtener una calificación igual o superior a 3.0"
   ]
  },
  {
   "cell_type": "code",
   "execution_count": 6,
   "metadata": {},
   "outputs": [
    {
     "data": {
      "image/png": "[encoded data removed]",
      "text/plain": [
       "<Figure size 720x504 with 1 Axes>"
      ]
     },
     "metadata": {
      "needs_background": "light"
     },
     "output_type": "display_data"
    }
   ],
   "source": [
    "### INSERTE SU CÓDIGO AQUÍ ###"
   ]
  },
  {
   "cell_type": "code",
   "execution_count": 7,
   "metadata": {},
   "outputs": [
    {
     "data": {
      "text/plain": [
       "'\\n    ESCRIBA SU RESPUESTA AQUÍ...\\n'"
      ]
     },
     "execution_count": 7,
     "metadata": {},
     "output_type": "execute_result"
    }
   ],
   "source": [
    "# Interpretación de la gráfica\n",
    "'''\n",
    "    ESCRIBA SU RESPUESTA AQUÍ...\n",
    "'''"
   ]
  },
  {
   "attachments": {},
   "cell_type": "markdown",
   "metadata": {},
   "source": [
    "### Paso 6: Generar la correlación y significancia estadística entre porcentaje ejercicios talleres de refuerzo y calificación final\n",
    "\n",
    "* Genere la correlación y significancia estadística entre: porcentaje ejercicios talleres de refuerzo y calificación final\n",
    "* Utilice las funciones correspondientes para: Pearson, Spearman y Kendall.\n",
    "* Interprete los resultados obtenidos."
   ]
  },
  {
   "cell_type": "code",
   "execution_count": 8,
   "metadata": {},
   "outputs": [
    {
     "name": "stdout",
     "output_type": "stream",
     "text": [
      "Correlación Pearson: r=0.28512559273416915, p-value=0.09187865835457622\n",
      "Correlación Spearman: r=0.2270412106849774, p-value=0.18297900882037302\n",
      "Correlación Kendall: r=0.18309556480110692, p-value=0.17528886701857793\n"
     ]
    }
   ],
   "source": [
    "# Cálculo de correlación: porcentaje ejercicios talleres de refuerzo VS calificación final\n",
    "# ==============================================================================\n",
    "\n",
    "### INSERTE SU CÓDIGO AQUÍ ###"
   ]
  },
  {
   "cell_type": "code",
   "execution_count": 9,
   "metadata": {},
   "outputs": [
    {
     "data": {
      "text/plain": [
       "'\\n    ESCRIBA SU RESPUESTA AQUÍ...\\n'"
      ]
     },
     "execution_count": 9,
     "metadata": {},
     "output_type": "execute_result"
    }
   ],
   "source": [
    "# Interpretación de los resultados\n",
    "'''\n",
    "    ESCRIBA SU RESPUESTA AQUÍ...\n",
    "'''"
   ]
  },
  {
   "attachments": {},
   "cell_type": "markdown",
   "metadata": {},
   "source": [
    "### Paso 7: Genere la gráfica de porcentaje ejercicios talleres refuerzo VS calificación final\n",
    "\n",
    "* Genere una gráfica de puntos entre: porcentaje ejercicios talleres refuerzo VS calificación final\n",
    "* Adicione una recta de color verde que separe los estudiantes que aprobaron el curso de los que no aprobaron\n",
    "* Interprete la gráfica obtenida\n",
    "\n",
    "Nota: Recuerde que para aprobar el curso es necesario obtener una calificación igual o superior a 3.0"
   ]
  },
  {
   "cell_type": "code",
   "execution_count": 10,
   "metadata": {},
   "outputs": [
    {
     "data": {
      "image/png": "[encoded data removed]",
      "text/plain": [
       "<Figure size 720x504 with 1 Axes>"
      ]
     },
     "metadata": {
      "needs_background": "light"
     },
     "output_type": "display_data"
    }
   ],
   "source": [
    "### INSERTE SU CÓDIGO AQUÍ ###"
   ]
  },
  {
   "cell_type": "code",
   "execution_count": 11,
   "metadata": {},
   "outputs": [
    {
     "data": {
      "text/plain": [
       "'\\n    ESCRIBA SU RESPUESTA AQUÍ...\\n'"
      ]
     },
     "execution_count": 11,
     "metadata": {},
     "output_type": "execute_result"
    }
   ],
   "source": [
    "# Interpretación de la gráfica\n",
    "'''\n",
    "    ESCRIBA SU RESPUESTA AQUÍ...\n",
    "'''"
   ]
  }
 ],
 "metadata": {
  "kernelspec": {
   "display_name": "Python 3",
   "language": "python",
   "name": "python3"
  },
  "language_info": {
   "codemirror_mode": {
    "name": "ipython",
    "version": 3
   },
   "file_extension": ".py",
   "mimetype": "text/x-python",
   "name": "python",
   "nbconvert_exporter": "python",
   "pygments_lexer": "ipython3",
   "version": "3.9.13"
  },
  "orig_nbformat": 4
 },
 "nbformat": 4,
 "nbformat_minor": 2
}
