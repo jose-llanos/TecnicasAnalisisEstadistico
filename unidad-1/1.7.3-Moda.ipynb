{
 "cells": [
  {
   "cell_type": "code",
   "execution_count": 3,
   "metadata": {},
   "outputs": [
    {
     "name": "stdout",
     "output_type": "stream",
     "text": [
      "Moda =  160\n"
     ]
    }
   ],
   "source": [
    "# Paso 1: Cargar las librerías\n",
    "# Librería para operaciones estadísticas\n",
    "import statistics as stat\n",
    "\n",
    "# Paso 2: Cargar los datos\n",
    "datos = [165, 172, 160, 172, 175, 160, 168, 178, 160, 175]\n",
    "\n",
    "# Paso 3: Calcular la Moda\n",
    "moda = stat.mode(datos)\n",
    "print(\"Moda = \", moda)"
   ]
  }
 ],
 "metadata": {
  "kernelspec": {
   "display_name": "Python 3",
   "language": "python",
   "name": "python3"
  },
  "language_info": {
   "codemirror_mode": {
    "name": "ipython",
    "version": 3
   },
   "file_extension": ".py",
   "mimetype": "text/x-python",
   "name": "python",
   "nbconvert_exporter": "python",
   "pygments_lexer": "ipython3",
   "version": "3.9.13"
  },
  "orig_nbformat": 4
 },
 "nbformat": 4,
 "nbformat_minor": 2
}
