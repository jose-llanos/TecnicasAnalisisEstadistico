{
 "cells": [
  {
   "cell_type": "code",
   "execution_count": 1,
   "metadata": {},
   "outputs": [
    {
     "name": "stdout",
     "output_type": "stream",
     "text": [
      "Coeficiente Kendall =  0.909090909090909\n"
     ]
    }
   ],
   "source": [
    "# Paso 1: Cargar las librerías\n",
    "# Libreria para calcular el coeficiente de correlación\n",
    "from scipy import stats\n",
    "\n",
    "# Paso 2: Cargar los datos\n",
    "entrenador_1 = [1, 2, 3, 4, 5, 6, 7, 8, 9, 10, 11, 12]\n",
    "entrenador_2 = [1, 2, 3, 5, 4, 7, 6, 8, 10, 9, 11, 12]\n",
    "\n",
    "# Paso 3: Calcular la correlación de Kendall\n",
    "t = stats.kendalltau(entrenador_1, entrenador_2)\n",
    "\n",
    "print(\"Coeficiente Kendall = \", t[0])\n"
   ]
  }
 ],
 "metadata": {
  "kernelspec": {
   "display_name": "Python 3",
   "language": "python",
   "name": "python3"
  },
  "language_info": {
   "codemirror_mode": {
    "name": "ipython",
    "version": 3
   },
   "file_extension": ".py",
   "mimetype": "text/x-python",
   "name": "python",
   "nbconvert_exporter": "python",
   "pygments_lexer": "ipython3",
   "version": "3.9.13"
  },
  "orig_nbformat": 4
 },
 "nbformat": 4,
 "nbformat_minor": 2
}
