{
 "cells": [
  {
   "cell_type": "code",
   "execution_count": 1,
   "metadata": {},
   "outputs": [
    {
     "name": "stdout",
     "output_type": "stream",
     "text": [
      "Coeficiente Spearman =  -0.9969650916353059\n"
     ]
    }
   ],
   "source": [
    "# Paso 1: Cargar las librerías\n",
    "# Libreria para calcular el coeficiente de correlación\n",
    "from scipy import stats\n",
    "\n",
    "# Paso 2: Cargar los datos\n",
    "horas_estudio = [5, 7, 3, 6, 4, 2, 8, 9, 1, 7]\n",
    "calificacion = [85, 78, 90, 82, 88, 92, 75, 70, 96, 79]\n",
    "\n",
    "# Paso 3: Calcular la correlación de Spearman\n",
    "rs = stats.spearmanr(horas_estudio, calificacion)\n",
    "\n",
    "print(\"Coeficiente Spearman = \", rs[0])\n"
   ]
  }
 ],
 "metadata": {
  "kernelspec": {
   "display_name": "Python 3",
   "language": "python",
   "name": "python3"
  },
  "language_info": {
   "codemirror_mode": {
    "name": "ipython",
    "version": 3
   },
   "file_extension": ".py",
   "mimetype": "text/x-python",
   "name": "python",
   "nbconvert_exporter": "python",
   "pygments_lexer": "ipython3",
   "version": "3.9.13"
  },
  "orig_nbformat": 4
 },
 "nbformat": 4,
 "nbformat_minor": 2
}
