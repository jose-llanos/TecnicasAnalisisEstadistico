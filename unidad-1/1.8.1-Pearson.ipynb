{
 "cells": [
  {
   "cell_type": "code",
   "execution_count": 3,
   "metadata": {},
   "outputs": [
    {
     "name": "stdout",
     "output_type": "stream",
     "text": [
      "Coeficiente Pearson =  0.970050852541194\n"
     ]
    }
   ],
   "source": [
    "# Paso 1: Cargar las librerías\n",
    "# Libreria para calcular el coeficiente de correlación\n",
    "from scipy import stats\n",
    "\n",
    "# Paso 2: Cargar los datos\n",
    "horas_estudio = [5, 10, 15, 8, 12]\n",
    "calificacion = [85, 90, 92, 88, 91]\n",
    "\n",
    "# Paso 3: Calcular la correlación de Pearson\n",
    "r = stats.pearsonr(horas_estudio, calificacion)\n",
    "\n",
    "print(\"Coeficiente Pearson = \", r[0])\n",
    "\n",
    "\n",
    "\n",
    "\n",
    "\n"
   ]
  }
 ],
 "metadata": {
  "kernelspec": {
   "display_name": "Python 3",
   "language": "python",
   "name": "python3"
  },
  "language_info": {
   "codemirror_mode": {
    "name": "ipython",
    "version": 3
   },
   "file_extension": ".py",
   "mimetype": "text/x-python",
   "name": "python",
   "nbconvert_exporter": "python",
   "pygments_lexer": "ipython3",
   "version": "3.9.13"
  },
  "orig_nbformat": 4
 },
 "nbformat": 4,
 "nbformat_minor": 2
}
