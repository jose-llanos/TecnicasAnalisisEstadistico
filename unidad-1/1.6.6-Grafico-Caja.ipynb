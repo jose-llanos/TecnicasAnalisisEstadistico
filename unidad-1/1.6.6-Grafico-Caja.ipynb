{
 "cells": [
  {
   "cell_type": "code",
   "execution_count": 5,
   "metadata": {},
   "outputs": [
    {
     "data": {
      "image/png": "[encoded data removed]",
      "text/plain": [
       "<Figure size 432x288 with 1 Axes>"
      ]
     },
     "metadata": {
      "needs_background": "light"
     },
     "output_type": "display_data"
    }
   ],
   "source": [
    "# Paso 1: Cargar las librerías\n",
    "# Librería para gráficas\n",
    "import matplotlib.pyplot as plt\n",
    "\n",
    "# Paso 2: Cargamos los datos\n",
    "datos = [36, 25, 37, 24, 39, 20, 36, 45, 31, 31,\n",
    "          39, 24, 29, 23, 41, 40, 33, 24, 34, 40]\n",
    "\n",
    "# Generar la gráfica de Caja\n",
    "plt.boxplot(datos)\n",
    "plt.ylabel('edades')\n",
    "plt.show()"
   ]
  }
 ],
 "metadata": {
  "kernelspec": {
   "display_name": "Python 3",
   "language": "python",
   "name": "python3"
  },
  "language_info": {
   "codemirror_mode": {
    "name": "ipython",
    "version": 3
   },
   "file_extension": ".py",
   "mimetype": "text/x-python",
   "name": "python",
   "nbconvert_exporter": "python",
   "pygments_lexer": "ipython3",
   "version": "3.9.13"
  },
  "orig_nbformat": 4
 },
 "nbformat": 4,
 "nbformat_minor": 2
}
