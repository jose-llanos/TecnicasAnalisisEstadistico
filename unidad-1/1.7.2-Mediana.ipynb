{
 "cells": [
  {
   "cell_type": "code",
   "execution_count": 1,
   "metadata": {},
   "outputs": [
    {
     "name": "stdout",
     "output_type": "stream",
     "text": [
      "Mediana =  86.0\n"
     ]
    }
   ],
   "source": [
    "# Paso 1: Cargar las librerías\n",
    "# Librería para operaciones estadísticas\n",
    "import numpy as np\n",
    "\n",
    "# Paso 2: Cargar los datos\n",
    "datos = [85, 92, 78, 60, 95, 87, 75, 82, 90, 88]\n",
    "\n",
    "# Paso 3: Calcular la Mediana\n",
    "mediana = np.median(datos)\n",
    "print(\"Mediana = \", mediana)"
   ]
  }
 ],
 "metadata": {
  "kernelspec": {
   "display_name": "Python 3",
   "language": "python",
   "name": "python3"
  },
  "language_info": {
   "codemirror_mode": {
    "name": "ipython",
    "version": 3
   },
   "file_extension": ".py",
   "mimetype": "text/x-python",
   "name": "python",
   "nbconvert_exporter": "python",
   "pygments_lexer": "ipython3",
   "version": "3.9.13"
  },
  "orig_nbformat": 4
 },
 "nbformat": 4,
 "nbformat_minor": 2
}
