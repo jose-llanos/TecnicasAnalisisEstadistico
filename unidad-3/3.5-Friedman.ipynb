{
 "cells": [
  {
   "cell_type": "code",
   "execution_count": 3,
   "metadata": {},
   "outputs": [
    {
     "name": "stdout",
     "output_type": "stream",
     "text": [
      "FriedmanchisquareResult(statistic=2.5714285714285694, pvalue=0.27645304662956466)\n"
     ]
    }
   ],
   "source": [
    "# Paso 1: Cargar las librerías\n",
    "# Libreria para test no paramétrico\n",
    "import scipy.stats as stats\n",
    "\n",
    "# Paso 2: Cargar los datos\n",
    "reaccion_1 = [34, 33, 41, 39, 44, 37, 39] \n",
    "reaccion_2 = [45, 36, 35, 43, 42, 42, 46]\n",
    "reaccion_3 = [36, 31, 44, 42, 41, 45, 40]\n",
    "\n",
    "# Paso 3: Calcular el Test de Friedman\n",
    "friedman = stats.friedmanchisquare(reaccion_1, reaccion_2, reaccion_3)\n",
    "\n",
    "print(friedman)\n"
   ]
  }
 ],
 "metadata": {
  "kernelspec": {
   "display_name": "Python 3",
   "language": "python",
   "name": "python3"
  },
  "language_info": {
   "codemirror_mode": {
    "name": "ipython",
    "version": 3
   },
   "file_extension": ".py",
   "mimetype": "text/x-python",
   "name": "python",
   "nbconvert_exporter": "python",
   "pygments_lexer": "ipython3",
   "version": "3.9.13"
  },
  "orig_nbformat": 4
 },
 "nbformat": 4,
 "nbformat_minor": 2
}
