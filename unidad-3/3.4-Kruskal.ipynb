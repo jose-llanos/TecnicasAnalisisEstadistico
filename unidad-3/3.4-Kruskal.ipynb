{
 "cells": [
  {
   "cell_type": "code",
   "execution_count": 3,
   "metadata": {},
   "outputs": [
    {
     "name": "stdout",
     "output_type": "stream",
     "text": [
      "KruskalResult(statistic=9.729749103942659, pvalue=0.007712795685790791)\n"
     ]
    }
   ],
   "source": [
    "# Paso 1: Cargar las librerías\n",
    "# Libreria para test no paramétrico\n",
    "import scipy.stats as stats\n",
    "\n",
    "# Paso 2: Cargar los datos\n",
    "grupo1 = [85, 78, 90, 82, 88] \n",
    "grupo2 = [72, 68, 76, 80, 85]\n",
    "grupo3 = [92, 88, 95, 89, 94]\n",
    "\n",
    "# Paso 3: Calcular el Test de Kruskal\n",
    "kruskal = stats.kruskal(grupo1, grupo2, grupo3)\n",
    "\n",
    "print(kruskal)\n"
   ]
  }
 ],
 "metadata": {
  "kernelspec": {
   "display_name": "Python 3",
   "language": "python",
   "name": "python3"
  },
  "language_info": {
   "codemirror_mode": {
    "name": "ipython",
    "version": 3
   },
   "file_extension": ".py",
   "mimetype": "text/x-python",
   "name": "python",
   "nbconvert_exporter": "python",
   "pygments_lexer": "ipython3",
   "version": "3.9.13"
  },
  "orig_nbformat": 4
 },
 "nbformat": 4,
 "nbformat_minor": 2
}
