{
 "cells": [
  {
   "cell_type": "code",
   "execution_count": 13,
   "metadata": {},
   "outputs": [
    {
     "name": "stdout",
     "output_type": "stream",
     "text": [
      "MannwhitneyuResult(statistic=7.5, pvalue=0.34278171114791145)\n"
     ]
    }
   ],
   "source": [
    "# Paso 1: Cargar las librerías\n",
    "# Libreria para test no paramétrico\n",
    "import scipy.stats as stats\n",
    "\n",
    "# Paso 2: Cargar los datos\n",
    "grupo1 = [20, 23, 21, 25, 18] \n",
    "grupo2 = [24, 25, 21, 22, 23]\n",
    "\n",
    "# Paso 3: Calcular el Test de Mann-Whitney\n",
    "mann_whitney = stats.mannwhitneyu(grupo1, grupo2)\n",
    "\n",
    "print(mann_whitney)\n"
   ]
  }
 ],
 "metadata": {
  "kernelspec": {
   "display_name": "Python 3",
   "language": "python",
   "name": "python3"
  },
  "language_info": {
   "codemirror_mode": {
    "name": "ipython",
    "version": 3
   },
   "file_extension": ".py",
   "mimetype": "text/x-python",
   "name": "python",
   "nbconvert_exporter": "python",
   "pygments_lexer": "ipython3",
   "version": "3.9.13"
  },
  "orig_nbformat": 4
 },
 "nbformat": 4,
 "nbformat_minor": 2
}
