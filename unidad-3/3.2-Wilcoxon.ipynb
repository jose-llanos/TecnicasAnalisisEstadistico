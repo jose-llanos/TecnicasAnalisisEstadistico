{
 "cells": [
  {
   "cell_type": "code",
   "execution_count": 2,
   "metadata": {},
   "outputs": [
    {
     "name": "stdout",
     "output_type": "stream",
     "text": [
      "WilcoxonResult(statistic=3.0, pvalue=0.22067136191984693)\n"
     ]
    }
   ],
   "source": [
    "# Paso 1: Cargar las librerías\n",
    "# Libreria para test no paramétrico\n",
    "import scipy.stats as stats\n",
    "\n",
    "# Paso 2: Cargar los datos\n",
    "calificacion_antes = [2, 5, 4, 6, 1, 3]\n",
    "calificacion_despues = [5, 6, 2, 7, 1, 6]\n",
    "\n",
    "# Paso 3: Calcular el Test de Wilcoxon\n",
    "wilcoxon = stats.wilcoxon(calificacion_antes, calificacion_despues)\n",
    "\n",
    "print(wilcoxon)\n"
   ]
  }
 ],
 "metadata": {
  "kernelspec": {
   "display_name": "Python 3",
   "language": "python",
   "name": "python3"
  },
  "language_info": {
   "codemirror_mode": {
    "name": "ipython",
    "version": 3
   },
   "file_extension": ".py",
   "mimetype": "text/x-python",
   "name": "python",
   "nbconvert_exporter": "python",
   "pygments_lexer": "ipython3",
   "version": "3.9.13"
  },
  "orig_nbformat": 4
 },
 "nbformat": 4,
 "nbformat_minor": 2
}
