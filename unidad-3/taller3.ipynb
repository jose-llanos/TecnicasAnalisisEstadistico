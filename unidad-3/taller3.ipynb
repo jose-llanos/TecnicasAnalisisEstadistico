{
 "cells": [
  {
   "attachments": {},
   "cell_type": "markdown",
   "metadata": {},
   "source": [
    "## Taller 3: Estadística no paramétrica\n",
    "\n",
    "#### Acerca del conjunto de datos\n",
    "\n",
    "El conjunto de datos que se utilizará en este taller corresponde a las calificaciones obtenidas por 37 estudiantes del grupo experimental (GE) y 31 del grupo de control (GC) de un curso de Fundamentos de Programación del programa de Ingeniería de Sistemas de una Universidad Colombiana. En el GE se utilizó la clase magistral y se combinó con un tratamiento, mientras que en el GC solo se utilizó la clase magistral. La idea principal de este taller es identificar si el tratamiento aportó o no a los estudiantes del GE.\n",
    "\n",
    "#### Diccionario de Datos\n",
    "\n",
    "| Variable                          | Tipo             | Descripción |\n",
    "|-----------------------------------|------------------|-------------|\n",
    "| Lab1                              | Decimal          | Calificación obtenida por el estudiante en el Laboratorio 1. |\n",
    "| Lab2                              | Decimal          | Calificación obtenida por el estudiante en el Laboratorio 2. |\n",
    "| Lab3                              | Decimal          | Calificación obtenida por el estudiante en el Laboratorio 3. |\n",
    "| Lab4                              | Decimal          | Calificación obtenida por el estudiante en el Laboratorio 4. |\n",
    "| Parcial1                          | Decimal          | Calificación obtenida por el estudiante en el Parcial 1. |\n",
    "| Parcial2                          | Decimal          | Calificación obtenida por el estudiante en el Parcial 2. |\n",
    "| Proyecto                          | Decimal          | Calificación obtenida por el estudiante en el Proyecto Final. |\n",
    "| Final-Estudiante                  | Decimal          | Calificación Final obtenida por el estudiante en el curso. |\n"
   ]
  },
  {
   "cell_type": "markdown",
   "metadata": {},
   "source": [
    "### Nombre del Estudiante: \n",
    "\n",
    "**INGRESE AQUÍ SU NOMBRE...**"
   ]
  },
  {
   "cell_type": "markdown",
   "metadata": {},
   "source": [
    "### Paso 1: Importar las Librerias"
   ]
  },
  {
   "cell_type": "code",
   "execution_count": 1,
   "metadata": {},
   "outputs": [],
   "source": [
    "# Libreria para procesos matemáticos\n",
    "import numpy as np\n",
    "# Libreria para manejo de datos\n",
    "import pandas as pd\n",
    "# Libreria para gráficas\n",
    "import matplotlib.pyplot as plt\n",
    "# Libreria para el Test de Mann-Whitney\n",
    "from scipy.stats import mannwhitneyu"
   ]
  },
  {
   "attachments": {},
   "cell_type": "markdown",
   "metadata": {},
   "source": [
    "### Paso 2: Cargar los datos del GE y GC"
   ]
  },
  {
   "cell_type": "code",
   "execution_count": 2,
   "metadata": {},
   "outputs": [
    {
     "data": {
      "text/html": [
       "<div>\n",
       "<style scoped>\n",
       "    .dataframe tbody tr th:only-of-type {\n",
       "        vertical-align: middle;\n",
       "    }\n",
       "\n",
       "    .dataframe tbody tr th {\n",
       "        vertical-align: top;\n",
       "    }\n",
       "\n",
       "    .dataframe thead th {\n",
       "        text-align: right;\n",
       "    }\n",
       "</style>\n",
       "<table border=\"1\" class=\"dataframe\">\n",
       "  <thead>\n",
       "    <tr style=\"text-align: right;\">\n",
       "      <th></th>\n",
       "      <th>#</th>\n",
       "      <th>Lab1-GE</th>\n",
       "      <th>Lab2-GE</th>\n",
       "      <th>Lab3-GE</th>\n",
       "      <th>Lab4-GE</th>\n",
       "      <th>Parcial1-GE</th>\n",
       "      <th>Parcial2-GE</th>\n",
       "      <th>Proyecto-GE</th>\n",
       "      <th>Final-Estudiante-GE</th>\n",
       "    </tr>\n",
       "  </thead>\n",
       "  <tbody>\n",
       "    <tr>\n",
       "      <th>0</th>\n",
       "      <td>1</td>\n",
       "      <td>5.0</td>\n",
       "      <td>5.0</td>\n",
       "      <td>1.3</td>\n",
       "      <td>2.0</td>\n",
       "      <td>4.5</td>\n",
       "      <td>2.5</td>\n",
       "      <td>0.0</td>\n",
       "      <td>3.0</td>\n",
       "    </tr>\n",
       "    <tr>\n",
       "      <th>1</th>\n",
       "      <td>2</td>\n",
       "      <td>5.0</td>\n",
       "      <td>2.5</td>\n",
       "      <td>5.0</td>\n",
       "      <td>3.0</td>\n",
       "      <td>2.5</td>\n",
       "      <td>1.9</td>\n",
       "      <td>5.0</td>\n",
       "      <td>3.1</td>\n",
       "    </tr>\n",
       "    <tr>\n",
       "      <th>2</th>\n",
       "      <td>3</td>\n",
       "      <td>5.0</td>\n",
       "      <td>5.0</td>\n",
       "      <td>5.0</td>\n",
       "      <td>4.8</td>\n",
       "      <td>3.5</td>\n",
       "      <td>2.6</td>\n",
       "      <td>5.0</td>\n",
       "      <td>3.9</td>\n",
       "    </tr>\n",
       "    <tr>\n",
       "      <th>3</th>\n",
       "      <td>4</td>\n",
       "      <td>5.0</td>\n",
       "      <td>3.8</td>\n",
       "      <td>5.0</td>\n",
       "      <td>2.0</td>\n",
       "      <td>3.2</td>\n",
       "      <td>3.2</td>\n",
       "      <td>5.0</td>\n",
       "      <td>3.7</td>\n",
       "    </tr>\n",
       "    <tr>\n",
       "      <th>4</th>\n",
       "      <td>5</td>\n",
       "      <td>5.0</td>\n",
       "      <td>5.0</td>\n",
       "      <td>5.0</td>\n",
       "      <td>5.0</td>\n",
       "      <td>3.5</td>\n",
       "      <td>5.0</td>\n",
       "      <td>5.0</td>\n",
       "      <td>4.6</td>\n",
       "    </tr>\n",
       "  </tbody>\n",
       "</table>\n",
       "</div>"
      ],
      "text/plain": [
       "   #  Lab1-GE  Lab2-GE  Lab3-GE  Lab4-GE  Parcial1-GE  Parcial2-GE  \\\n",
       "0  1      5.0      5.0      1.3      2.0          4.5          2.5   \n",
       "1  2      5.0      2.5      5.0      3.0          2.5          1.9   \n",
       "2  3      5.0      5.0      5.0      4.8          3.5          2.6   \n",
       "3  4      5.0      3.8      5.0      2.0          3.2          3.2   \n",
       "4  5      5.0      5.0      5.0      5.0          3.5          5.0   \n",
       "\n",
       "   Proyecto-GE  Final-Estudiante-GE  \n",
       "0          0.0                  3.0  \n",
       "1          5.0                  3.1  \n",
       "2          5.0                  3.9  \n",
       "3          5.0                  3.7  \n",
       "4          5.0                  4.6  "
      ]
     },
     "execution_count": 2,
     "metadata": {},
     "output_type": "execute_result"
    }
   ],
   "source": [
    "# Se cargan al DataFrame los datos del grupo experimental\n",
    "data_GE = pd.read_csv('data/data_GE.csv', sep=\";\")\n",
    "\n",
    "data_GE.head(5)"
   ]
  },
  {
   "cell_type": "code",
   "execution_count": 3,
   "metadata": {},
   "outputs": [
    {
     "data": {
      "text/html": [
       "<div>\n",
       "<style scoped>\n",
       "    .dataframe tbody tr th:only-of-type {\n",
       "        vertical-align: middle;\n",
       "    }\n",
       "\n",
       "    .dataframe tbody tr th {\n",
       "        vertical-align: top;\n",
       "    }\n",
       "\n",
       "    .dataframe thead th {\n",
       "        text-align: right;\n",
       "    }\n",
       "</style>\n",
       "<table border=\"1\" class=\"dataframe\">\n",
       "  <thead>\n",
       "    <tr style=\"text-align: right;\">\n",
       "      <th></th>\n",
       "      <th>#</th>\n",
       "      <th>Lab1-GC</th>\n",
       "      <th>Lab2-GC</th>\n",
       "      <th>Lab3-GC</th>\n",
       "      <th>Lab4-GC</th>\n",
       "      <th>Parcial1-GC</th>\n",
       "      <th>Parcial2-GC</th>\n",
       "      <th>Proyecto-GC</th>\n",
       "      <th>Final-Estudiante-GC</th>\n",
       "    </tr>\n",
       "  </thead>\n",
       "  <tbody>\n",
       "    <tr>\n",
       "      <th>0</th>\n",
       "      <td>1</td>\n",
       "      <td>4.0</td>\n",
       "      <td>5.0</td>\n",
       "      <td>5.0</td>\n",
       "      <td>0.0</td>\n",
       "      <td>3.8</td>\n",
       "      <td>4.5</td>\n",
       "      <td>5.0</td>\n",
       "      <td>4.2</td>\n",
       "    </tr>\n",
       "    <tr>\n",
       "      <th>1</th>\n",
       "      <td>2</td>\n",
       "      <td>1.8</td>\n",
       "      <td>4.0</td>\n",
       "      <td>5.0</td>\n",
       "      <td>4.8</td>\n",
       "      <td>5.0</td>\n",
       "      <td>5.0</td>\n",
       "      <td>3.0</td>\n",
       "      <td>4.3</td>\n",
       "    </tr>\n",
       "    <tr>\n",
       "      <th>2</th>\n",
       "      <td>3</td>\n",
       "      <td>0.0</td>\n",
       "      <td>5.0</td>\n",
       "      <td>0.0</td>\n",
       "      <td>0.0</td>\n",
       "      <td>4.3</td>\n",
       "      <td>0.0</td>\n",
       "      <td>0.0</td>\n",
       "      <td>1.8</td>\n",
       "    </tr>\n",
       "    <tr>\n",
       "      <th>3</th>\n",
       "      <td>4</td>\n",
       "      <td>1.8</td>\n",
       "      <td>3.5</td>\n",
       "      <td>0.0</td>\n",
       "      <td>0.0</td>\n",
       "      <td>0.0</td>\n",
       "      <td>0.0</td>\n",
       "      <td>0.0</td>\n",
       "      <td>0.6</td>\n",
       "    </tr>\n",
       "    <tr>\n",
       "      <th>4</th>\n",
       "      <td>5</td>\n",
       "      <td>3.2</td>\n",
       "      <td>5.0</td>\n",
       "      <td>4.3</td>\n",
       "      <td>0.0</td>\n",
       "      <td>3.0</td>\n",
       "      <td>4.5</td>\n",
       "      <td>1.0</td>\n",
       "      <td>3.3</td>\n",
       "    </tr>\n",
       "  </tbody>\n",
       "</table>\n",
       "</div>"
      ],
      "text/plain": [
       "   #  Lab1-GC  Lab2-GC  Lab3-GC  Lab4-GC  Parcial1-GC  Parcial2-GC  \\\n",
       "0  1      4.0      5.0      5.0      0.0          3.8          4.5   \n",
       "1  2      1.8      4.0      5.0      4.8          5.0          5.0   \n",
       "2  3      0.0      5.0      0.0      0.0          4.3          0.0   \n",
       "3  4      1.8      3.5      0.0      0.0          0.0          0.0   \n",
       "4  5      3.2      5.0      4.3      0.0          3.0          4.5   \n",
       "\n",
       "   Proyecto-GC  Final-Estudiante-GC  \n",
       "0          5.0                  4.2  \n",
       "1          3.0                  4.3  \n",
       "2          0.0                  1.8  \n",
       "3          0.0                  0.6  \n",
       "4          1.0                  3.3  "
      ]
     },
     "execution_count": 3,
     "metadata": {},
     "output_type": "execute_result"
    }
   ],
   "source": [
    "# Se cargan al DataFrame los datos del grupo de control\n",
    "data_GC = pd.read_csv('data/data_GC.csv', sep=\";\")\n",
    "\n",
    "data_GC.head(5)"
   ]
  },
  {
   "cell_type": "markdown",
   "metadata": {},
   "source": [
    "### Paso 3: Estadísticas para el Laboratorio 1 (GE y GC)"
   ]
  },
  {
   "cell_type": "code",
   "execution_count": 4,
   "metadata": {},
   "outputs": [
    {
     "data": {
      "text/plain": [
       "count    36.000000\n",
       "mean      4.516667\n",
       "std       1.109826\n",
       "min       0.000000\n",
       "25%       4.900000\n",
       "50%       5.000000\n",
       "75%       5.000000\n",
       "max       5.000000\n",
       "Name: Lab1-GE, dtype: float64"
      ]
     },
     "execution_count": 4,
     "metadata": {},
     "output_type": "execute_result"
    }
   ],
   "source": [
    "# Estadísticas Lab 1 - GE\n",
    "\n",
    "### INSERTE SU CÓDIGO AQUÍ ###"
   ]
  },
  {
   "cell_type": "code",
   "execution_count": null,
   "metadata": {},
   "outputs": [],
   "source": [
    "# Interpretación de los resultados\n",
    "'''\n",
    "    ESCRIBA SU RESPUESTA AQUÍ...\n",
    "'''"
   ]
  },
  {
   "cell_type": "code",
   "execution_count": 5,
   "metadata": {},
   "outputs": [
    {
     "data": {
      "text/plain": [
       "count    30.000000\n",
       "mean      2.996667\n",
       "std       1.670326\n",
       "min       0.000000\n",
       "25%       1.800000\n",
       "50%       3.200000\n",
       "75%       4.500000\n",
       "max       5.000000\n",
       "Name: Lab1-GC, dtype: float64"
      ]
     },
     "execution_count": 5,
     "metadata": {},
     "output_type": "execute_result"
    }
   ],
   "source": [
    "# Estadísticas Lab 1 - GC\n",
    "\n",
    "### INSERTE SU CÓDIGO AQUÍ ###"
   ]
  },
  {
   "cell_type": "code",
   "execution_count": null,
   "metadata": {},
   "outputs": [],
   "source": [
    "# Interpretación de los resultados\n",
    "'''\n",
    "    ESCRIBA SU RESPUESTA AQUÍ...\n",
    "'''"
   ]
  },
  {
   "attachments": {},
   "cell_type": "markdown",
   "metadata": {},
   "source": [
    "### Paso 4: Generar la prueba de Mann Whitney del Lab 1 para: GE y GC"
   ]
  },
  {
   "cell_type": "code",
   "execution_count": 17,
   "metadata": {},
   "outputs": [
    {
     "name": "stdout",
     "output_type": "stream",
     "text": [
      "MannwhitneyuResult(statistic=883.5, pvalue=3.926397839736212e-06)\n"
     ]
    }
   ],
   "source": [
    "# Mann Whitney del Lab 1 para: GE y GC\n",
    "\n",
    "### INSERTE SU CÓDIGO AQUÍ ###"
   ]
  },
  {
   "cell_type": "code",
   "execution_count": null,
   "metadata": {},
   "outputs": [],
   "source": [
    "# Interpretación de los resultados\n",
    "'''\n",
    "    ESCRIBA SU RESPUESTA AQUÍ...\n",
    "'''"
   ]
  },
  {
   "cell_type": "markdown",
   "metadata": {},
   "source": [
    "### Paso 5: Estadísticas para el Parcial 1 (GE y GC)"
   ]
  },
  {
   "cell_type": "code",
   "execution_count": 7,
   "metadata": {},
   "outputs": [
    {
     "data": {
      "text/plain": [
       "count    36.000000\n",
       "mean      3.183333\n",
       "std       0.762889\n",
       "min       1.400000\n",
       "25%       2.500000\n",
       "50%       3.300000\n",
       "75%       3.825000\n",
       "max       4.500000\n",
       "Name: Parcial1-GE, dtype: float64"
      ]
     },
     "execution_count": 7,
     "metadata": {},
     "output_type": "execute_result"
    }
   ],
   "source": [
    "# Estadísticas Parcial 1 - GE\n",
    "\n",
    "### INSERTE SU CÓDIGO AQUÍ ###"
   ]
  },
  {
   "cell_type": "code",
   "execution_count": null,
   "metadata": {},
   "outputs": [],
   "source": [
    "# Interpretación de los resultados\n",
    "'''\n",
    "    ESCRIBA SU RESPUESTA AQUÍ...\n",
    "'''"
   ]
  },
  {
   "cell_type": "code",
   "execution_count": 8,
   "metadata": {},
   "outputs": [
    {
     "data": {
      "text/plain": [
       "count    30.000000\n",
       "mean      3.803333\n",
       "std       0.961853\n",
       "min       0.000000\n",
       "25%       3.325000\n",
       "50%       3.750000\n",
       "75%       4.500000\n",
       "max       5.000000\n",
       "Name: Parcial1-GC, dtype: float64"
      ]
     },
     "execution_count": 8,
     "metadata": {},
     "output_type": "execute_result"
    }
   ],
   "source": [
    "# Estadísticas Parcial 1 - GC\n",
    "\n",
    "### INSERTE SU CÓDIGO AQUÍ ###"
   ]
  },
  {
   "cell_type": "code",
   "execution_count": null,
   "metadata": {},
   "outputs": [],
   "source": [
    "# Interpretación de los resultados\n",
    "'''\n",
    "    ESCRIBA SU RESPUESTA AQUÍ...\n",
    "'''"
   ]
  },
  {
   "attachments": {},
   "cell_type": "markdown",
   "metadata": {},
   "source": [
    "### Paso 6: Generar la prueba de Mann Whitney del Parcial 1 para: GE y GC"
   ]
  },
  {
   "cell_type": "code",
   "execution_count": 9,
   "metadata": {},
   "outputs": [
    {
     "name": "stdout",
     "output_type": "stream",
     "text": [
      "MannwhitneyuResult(statistic=297.0, pvalue=0.00149184981790068)\n"
     ]
    }
   ],
   "source": [
    "# Whitney del Parcial 1 para: GE y GC\n",
    "\n",
    "### INSERTE SU CÓDIGO AQUÍ ###"
   ]
  },
  {
   "cell_type": "code",
   "execution_count": null,
   "metadata": {},
   "outputs": [],
   "source": [
    "# Interpretación de los resultados\n",
    "'''\n",
    "    ESCRIBA SU RESPUESTA AQUÍ...\n",
    "'''"
   ]
  },
  {
   "cell_type": "markdown",
   "metadata": {},
   "source": [
    "### Paso 7: Estadísticas para el Proyecto (GE y GC)\n"
   ]
  },
  {
   "cell_type": "code",
   "execution_count": 10,
   "metadata": {},
   "outputs": [
    {
     "data": {
      "text/plain": [
       "count    36.000000\n",
       "mean      4.444444\n",
       "std       1.593638\n",
       "min       0.000000\n",
       "25%       5.000000\n",
       "50%       5.000000\n",
       "75%       5.000000\n",
       "max       5.000000\n",
       "Name: Proyecto-GE, dtype: float64"
      ]
     },
     "execution_count": 10,
     "metadata": {},
     "output_type": "execute_result"
    }
   ],
   "source": [
    "# Estadísticas Proyecto - GE\n",
    "\n",
    "### INSERTE SU CÓDIGO AQUÍ ###"
   ]
  },
  {
   "cell_type": "code",
   "execution_count": null,
   "metadata": {},
   "outputs": [],
   "source": [
    "# Interpretación de los resultados\n",
    "'''\n",
    "    ESCRIBA SU RESPUESTA AQUÍ...\n",
    "'''"
   ]
  },
  {
   "cell_type": "code",
   "execution_count": 11,
   "metadata": {},
   "outputs": [
    {
     "data": {
      "text/plain": [
       "count    30.000000\n",
       "mean      1.513333\n",
       "std       2.064099\n",
       "min       0.000000\n",
       "25%       0.000000\n",
       "50%       0.000000\n",
       "75%       3.000000\n",
       "max       5.000000\n",
       "Name: Proyecto-GC, dtype: float64"
      ]
     },
     "execution_count": 11,
     "metadata": {},
     "output_type": "execute_result"
    }
   ],
   "source": [
    "# Estadísticas Proyecto - GC\n",
    "\n",
    "### INSERTE SU CÓDIGO AQUÍ ###"
   ]
  },
  {
   "cell_type": "code",
   "execution_count": null,
   "metadata": {},
   "outputs": [],
   "source": [
    "# Interpretación de los resultados\n",
    "'''\n",
    "    ESCRIBA SU RESPUESTA AQUÍ...\n",
    "'''"
   ]
  },
  {
   "attachments": {},
   "cell_type": "markdown",
   "metadata": {},
   "source": [
    "### Paso 8: Generar la prueba de Mann Whitney del Proyecto para: GE y GC"
   ]
  },
  {
   "cell_type": "code",
   "execution_count": 12,
   "metadata": {},
   "outputs": [
    {
     "name": "stdout",
     "output_type": "stream",
     "text": [
      "MannwhitneyuResult(statistic=914.0, pvalue=3.4667902169251315e-07)\n"
     ]
    }
   ],
   "source": [
    "# Mann Whitney del Proyecto para: GE y GC\n",
    "\n",
    "### INSERTE SU CÓDIGO AQUÍ ###"
   ]
  },
  {
   "cell_type": "code",
   "execution_count": null,
   "metadata": {},
   "outputs": [],
   "source": [
    "# Interpretación de los resultados\n",
    "'''\n",
    "    ESCRIBA SU RESPUESTA AQUÍ...\n",
    "'''"
   ]
  },
  {
   "cell_type": "markdown",
   "metadata": {},
   "source": [
    "### Paso 9: Estadísticas para Calificación Final (GE y GC)"
   ]
  },
  {
   "cell_type": "code",
   "execution_count": 13,
   "metadata": {},
   "outputs": [
    {
     "data": {
      "text/plain": [
       "count    36.000000\n",
       "mean      3.683333\n",
       "std       0.697137\n",
       "min       1.900000\n",
       "25%       3.250000\n",
       "50%       3.700000\n",
       "75%       4.200000\n",
       "max       4.700000\n",
       "Name: Final-Estudiante-GE, dtype: float64"
      ]
     },
     "execution_count": 13,
     "metadata": {},
     "output_type": "execute_result"
    }
   ],
   "source": [
    "# Estadísticas Calificación Final - GE\n",
    "\n",
    "### INSERTE SU CÓDIGO AQUÍ ###"
   ]
  },
  {
   "cell_type": "code",
   "execution_count": null,
   "metadata": {},
   "outputs": [],
   "source": [
    "# Interpretación de los resultados\n",
    "'''\n",
    "    ESCRIBA SU RESPUESTA AQUÍ...\n",
    "'''"
   ]
  },
  {
   "cell_type": "code",
   "execution_count": 14,
   "metadata": {},
   "outputs": [
    {
     "data": {
      "text/plain": [
       "count    30.000000\n",
       "mean      3.043333\n",
       "std       1.236704\n",
       "min       0.600000\n",
       "25%       2.025000\n",
       "50%       3.350000\n",
       "75%       3.975000\n",
       "max       4.700000\n",
       "Name: Final-Estudiante-GC, dtype: float64"
      ]
     },
     "execution_count": 14,
     "metadata": {},
     "output_type": "execute_result"
    }
   ],
   "source": [
    "# Estadísticas Calificación Final - GC\n",
    "\n",
    "### INSERTE SU CÓDIGO AQUÍ ###"
   ]
  },
  {
   "cell_type": "code",
   "execution_count": null,
   "metadata": {},
   "outputs": [],
   "source": [
    "# Interpretación de los resultados\n",
    "'''\n",
    "    ESCRIBA SU RESPUESTA AQUÍ...\n",
    "'''"
   ]
  },
  {
   "cell_type": "markdown",
   "metadata": {},
   "source": [
    "### Paso 10: Generar la prueba de Mann Whitney de la Calificación Final para: GE y GC"
   ]
  },
  {
   "cell_type": "code",
   "execution_count": 15,
   "metadata": {},
   "outputs": [
    {
     "name": "stdout",
     "output_type": "stream",
     "text": [
      "MannwhitneyuResult(statistic=690.5, pvalue=0.053795334344038444)\n"
     ]
    }
   ],
   "source": [
    "# Mann Whitney de la Calificación Final para: GE y GC\n",
    "\n",
    "### INSERTE SU CÓDIGO AQUÍ ###"
   ]
  },
  {
   "cell_type": "code",
   "execution_count": null,
   "metadata": {},
   "outputs": [],
   "source": [
    "# Interpretación de los resultados\n",
    "'''\n",
    "    ESCRIBA SU RESPUESTA AQUÍ...\n",
    "'''"
   ]
  }
 ],
 "metadata": {
  "kernelspec": {
   "display_name": "Python 3",
   "language": "python",
   "name": "python3"
  },
  "language_info": {
   "codemirror_mode": {
    "name": "ipython",
    "version": 3
   },
   "file_extension": ".py",
   "mimetype": "text/x-python",
   "name": "python",
   "nbconvert_exporter": "python",
   "pygments_lexer": "ipython3",
   "version": "3.9.13"
  },
  "orig_nbformat": 4
 },
 "nbformat": 4,
 "nbformat_minor": 2
}
