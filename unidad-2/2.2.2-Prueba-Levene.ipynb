{
 "cells": [
  {
   "cell_type": "code",
   "execution_count": 1,
   "metadata": {},
   "outputs": [
    {
     "name": "stdout",
     "output_type": "stream",
     "text": [
      "Estadístico: 40.237370802187264\n",
      "Valor p: 3.439379462513711e-16\n"
     ]
    }
   ],
   "source": [
    "# Paso 1: Importar las librerias\n",
    "# Libreria para operaciones matemáticas\n",
    "import numpy as np\n",
    "# Libreria para estadísticas\n",
    "from scipy import stats\n",
    "\n",
    "# Paso 2: Crear los datos\n",
    "grupo_1 = np.random.normal(0, 1, 100)  # Grupo 1 con: media 0, desviación estándar 1 y 100 datos aleatorios\n",
    "grupo_2 = np.random.normal(0, 2, 100)  # Grupo 2 con: media 0, desviación estándar 2 y 100 datos aleatorios\n",
    "grupo_3 = np.random.normal(0, 3, 100)  # Grupo 3 con: media 0, desviación estándar 3 y 100 datos aleatorios\n",
    "\n",
    "# Paso 3: Prueba Levene\n",
    "statistic, p_value = stats.levene(grupo_1, grupo_2, grupo_3)\n",
    "\n",
    "print(\"Estadístico:\", statistic)\n",
    "print(\"Valor p:\", p_value)"
   ]
  }
 ],
 "metadata": {
  "kernelspec": {
   "display_name": "Python 3",
   "language": "python",
   "name": "python3"
  },
  "language_info": {
   "codemirror_mode": {
    "name": "ipython",
    "version": 3
   },
   "file_extension": ".py",
   "mimetype": "text/x-python",
   "name": "python",
   "nbconvert_exporter": "python",
   "pygments_lexer": "ipython3",
   "version": "3.9.13"
  },
  "orig_nbformat": 4
 },
 "nbformat": 4,
 "nbformat_minor": 2
}
