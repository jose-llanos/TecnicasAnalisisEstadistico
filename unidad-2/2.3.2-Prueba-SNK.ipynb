{
 "cells": [
  {
   "cell_type": "code",
   "execution_count": 12,
   "metadata": {},
   "outputs": [
    {
     "name": "stderr",
     "output_type": "stream",
     "text": [
      "/Library/Frameworks/Python.framework/Versions/3.9/lib/python3.9/site-packages/statsmodels/sandbox/stats/multicomp.py:931: RuntimeWarning: Precision loss occurred in moment calculation due to catastrophic cancellation. This occurs when the data are nearly identical. Results may be unreliable.\n",
      "  res.append(testfunc(self.datali[i], self.datali[j]))\n"
     ]
    },
    {
     "name": "stdout",
     "output_type": "stream",
     "text": [
      "Test Multiple Comparison ttest_rel \n",
      "FWER=0.05 method=bonf\n",
      "alphacSidak=0.01, alphacBonf=0.008\n",
      "=============================================\n",
      "group1 group2   stat   pval  pval_corr reject\n",
      "---------------------------------------------\n",
      "     A      B    13.0 0.0489    0.2932  False\n",
      "     A      C    -1.8 0.3228       1.0  False\n",
      "     A      D    -0.2 0.8743       1.0  False\n",
      "     B      C -3.6667 0.1695       1.0  False\n",
      "     B      D -2.3333 0.2578       1.0  False\n",
      "     C      D     inf    0.0       0.0   True\n",
      "---------------------------------------------\n"
     ]
    }
   ],
   "source": [
    "# Paso 1: Importar las librerias\n",
    "# Libreria para operaciones matemáticas\n",
    "import numpy as np\n",
    "# Libreria para el manejo de datos\n",
    "import pandas as pd\n",
    "# Libreria para estadísticas\n",
    "import scipy.stats as st\n",
    "import statsmodels.api as sm\n",
    "from statsmodels.stats.multicomp import MultiComparison\n",
    "\n",
    "# Paso 2: Crear los datos y cargarlos a un DataFrame\n",
    "data = { 'Grupo': ['A', 'A', 'B', 'B', 'C', 'C', 'D', 'D'],\n",
    "         'Calificaciones': [85, 88, 78, 82, 92, 90, 88, 86]\n",
    "}\n",
    "df = pd.DataFrame(data)\n",
    "\n",
    "# Paso 3: Realizar el ANOVA\n",
    "modelo_anova = sm.formula.ols('Calificaciones ~ Grupo', data=df).fit()\n",
    "tabla_anova = sm.stats.anova_lm(modelo_anova, typ=2)\n",
    "\n",
    "# Paso 4: Realizar la Prueba SNK\n",
    "mc = MultiComparison(df['Calificaciones'], df['Grupo'])\n",
    "resultado_snk = mc.allpairtest(st.ttest_rel, method='bonf')\n",
    "print(resultado_snk[0])"
   ]
  }
 ],
 "metadata": {
  "kernelspec": {
   "display_name": "Python 3",
   "language": "python",
   "name": "python3"
  },
  "language_info": {
   "codemirror_mode": {
    "name": "ipython",
    "version": 3
   },
   "file_extension": ".py",
   "mimetype": "text/x-python",
   "name": "python",
   "nbconvert_exporter": "python",
   "pygments_lexer": "ipython3",
   "version": "3.9.13"
  },
  "orig_nbformat": 4
 },
 "nbformat": 4,
 "nbformat_minor": 2
}
