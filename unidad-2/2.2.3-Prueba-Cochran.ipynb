{
 "cells": [
  {
   "cell_type": "code",
   "execution_count": 1,
   "metadata": {},
   "outputs": [
    {
     "name": "stdout",
     "output_type": "stream",
     "text": [
      "No rechazar la hipótesis nula: no hay evidencia suficiente para concluir diferencias en varianzas.\n"
     ]
    }
   ],
   "source": [
    "# Paso 1: Importar las librerias\n",
    "# Libreria para operaciones matemáticas\n",
    "import numpy as np\n",
    "# Libreria para estadísticas\n",
    "from scipy.stats import chi2\n",
    "\n",
    "# Paso 2: Calcular la varianza máxima entre los grupos (Vmax) \n",
    "# y la varianza total dentro de los grupos (Vtotal).\n",
    "varianzas = [1.0, 2.0, 3.0]  # Varianzas de los grupos A, B y C\n",
    "n = len(varianzas)  # Número de grupos\n",
    "\n",
    "Vmax = max(varianzas)\n",
    "Vtotal = sum(varianzas)\n",
    "\n",
    "# Paso 3: Calcular la estadística de prueba de Cochran (Q).\n",
    "Q = (n - 1) * Vmax / Vtotal\n",
    "\n",
    "# Paso 4: Calcular el valor crítico\n",
    "df = n - 1  # Grados de libertad\n",
    "nivel_de_significancia = 0.05  # Nivel de significancia (por ejemplo, 0.05)\n",
    "\n",
    "valor_critico = chi2.ppf(1 - nivel_de_significancia, df)\n",
    "\n",
    "# Paso 5: Comparar la estadística de prueba y el valor crítico\n",
    "if Q > valor_critico:\n",
    "    print(\"Rechazar la hipótesis nula: al menos una de las varianzas es diferente.\")\n",
    "else:\n",
    "    print(\"No rechazar la hipótesis nula: no hay evidencia suficiente para concluir diferencias en varianzas.\")"
   ]
  }
 ],
 "metadata": {
  "kernelspec": {
   "display_name": "Python 3",
   "language": "python",
   "name": "python3"
  },
  "language_info": {
   "codemirror_mode": {
    "name": "ipython",
    "version": 3
   },
   "file_extension": ".py",
   "mimetype": "text/x-python",
   "name": "python",
   "nbconvert_exporter": "python",
   "pygments_lexer": "ipython3",
   "version": "3.9.13"
  },
  "orig_nbformat": 4
 },
 "nbformat": 4,
 "nbformat_minor": 2
}
