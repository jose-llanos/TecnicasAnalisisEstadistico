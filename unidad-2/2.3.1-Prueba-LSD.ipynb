{
 "cells": [
  {
   "cell_type": "code",
   "execution_count": 1,
   "metadata": {},
   "outputs": [],
   "source": [
    "# Paso 1: Instalar la librería statsmodels\n",
    "#!pip3 install statsmodels"
   ]
  },
  {
   "cell_type": "code",
   "execution_count": 3,
   "metadata": {},
   "outputs": [
    {
     "name": "stdout",
     "output_type": "stream",
     "text": [
      " Multiple Comparison of Means - Tukey HSD, FWER=0.05 \n",
      "=====================================================\n",
      "group1 group2 meandiff p-adj   lower    upper  reject\n",
      "-----------------------------------------------------\n",
      "     A      B     -6.5 0.1166 -15.6868  2.6868  False\n",
      "     A      C      4.5 0.2483  -4.6868 13.6868  False\n",
      "     B      C     11.0  0.031   1.8132 20.1868   True\n",
      "-----------------------------------------------------\n"
     ]
    }
   ],
   "source": [
    "# Paso 2: Importar las librerias\n",
    "# Libreria para operaciones matemáticas\n",
    "import numpy as np\n",
    "# Libreria para el manejo de datos\n",
    "import pandas as pd\n",
    "# Libreria para estadísticas\n",
    "import statsmodels.api as sm\n",
    "from statsmodels.stats.multicomp import MultiComparison\n",
    "\n",
    "# Paso 3: Crear los datos\n",
    "data = { 'grupo': ['A', 'A', 'B', 'B', 'C', 'C'],\n",
    "         'calificaciones': [85, 88, 78, 82, 92, 90]\n",
    "}\n",
    "df = pd.DataFrame(data)\n",
    "\n",
    "# Paso 4: Realizar el ANOVA\n",
    "modelo = sm.OLS.from_formula('calificaciones ~ grupo', data=df)\n",
    "resultado_anova = modelo.fit()\n",
    "anova_table = sm.stats.anova_lm(resultado_anova, typ=2)\n",
    "\n",
    "# Paso 5: Realizar la prueba LSD\n",
    "mc = MultiComparison(df['calificaciones'], df['grupo'])\n",
    "resultado_lsd = mc.tukeyhsd()\n",
    "print(resultado_lsd)"
   ]
  }
 ],
 "metadata": {
  "kernelspec": {
   "display_name": "Python 3",
   "language": "python",
   "name": "python3"
  },
  "language_info": {
   "codemirror_mode": {
    "name": "ipython",
    "version": 3
   },
   "file_extension": ".py",
   "mimetype": "text/x-python",
   "name": "python",
   "nbconvert_exporter": "python",
   "pygments_lexer": "ipython3",
   "version": "3.9.13"
  },
  "orig_nbformat": 4
 },
 "nbformat": 4,
 "nbformat_minor": 2
}
