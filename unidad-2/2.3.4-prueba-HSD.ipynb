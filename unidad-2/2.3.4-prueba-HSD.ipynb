{
 "cells": [
  {
   "cell_type": "code",
   "execution_count": 3,
   "metadata": {},
   "outputs": [
    {
     "name": "stdout",
     "output_type": "stream",
     "text": [
      "              sum_sq   df          F    PR(>F)\n",
      "Grupo     198.666667  3.0  30.564103  0.000099\n",
      "Residual   17.333333  8.0        NaN       NaN\n",
      "Test Multiple Comparison ttest_rel \n",
      "FWER=0.05 method=bonf\n",
      "alphacSidak=0.01, alphacBonf=0.008\n",
      "=============================================\n",
      "group1 group2   stat   pval  pval_corr reject\n",
      "---------------------------------------------\n",
      "     A      B    20.0 0.0025    0.0149   True\n",
      "     A      C -3.2118 0.0848    0.5087  False\n",
      "     A      D -0.4588 0.6914       1.0  False\n",
      "     B      C -6.4254 0.0234    0.1403  False\n",
      "     B      D -4.1576 0.0533    0.3196  False\n",
      "     C      D     inf    0.0       0.0   True\n",
      "---------------------------------------------\n"
     ]
    },
    {
     "name": "stderr",
     "output_type": "stream",
     "text": [
      "/Library/Frameworks/Python.framework/Versions/3.9/lib/python3.9/site-packages/statsmodels/sandbox/stats/multicomp.py:931: RuntimeWarning: Precision loss occurred in moment calculation due to catastrophic cancellation. This occurs when the data are nearly identical. Results may be unreliable.\n",
      "  res.append(testfunc(self.datali[i], self.datali[j]))\n"
     ]
    }
   ],
   "source": [
    "# Paso 1: Importar las librerias\n",
    "# Libreria para el manejo de datos\n",
    "import pandas as pd\n",
    "# Libreria para estadísticas\n",
    "import scipy.stats as st\n",
    "import statsmodels.api as sm\n",
    "from statsmodels.stats.multicomp import MultiComparison\n",
    "\n",
    "# Paso 2: Crear los datos y cargarlos a un DataFrame\n",
    "data = {'Grupo': ['A', 'A', 'A', 'B', 'B', 'B', 'C', 'C', 'C', 'D', 'D', 'D'],\n",
    "        'Calificaciones': [85, 88, 86, 78, 82, 79, 92, 90, 91, 88, 86, 87]\n",
    "}\n",
    "df = pd.DataFrame(data)\n",
    "\n",
    "# Paso 3: Realizar un ANOVA\n",
    "modelo_anova = sm.formula.ols('Calificaciones ~ Grupo', data=df).fit()\n",
    "tabla_anova = sm.stats.anova_lm(modelo_anova, typ=2)\n",
    "print(tabla_anova)\n",
    "\n",
    "# Paso 4: Realizar la prueba HSD\n",
    "mc = MultiComparison(df['Calificaciones'], df['Grupo'])\n",
    "resultado_hsd = mc.allpairtest(st.ttest_rel, method='bonf')\n",
    "print(resultado_hsd[0])"
   ]
  }
 ],
 "metadata": {
  "kernelspec": {
   "display_name": "Python 3",
   "language": "python",
   "name": "python3"
  },
  "language_info": {
   "codemirror_mode": {
    "name": "ipython",
    "version": 3
   },
   "file_extension": ".py",
   "mimetype": "text/x-python",
   "name": "python",
   "nbconvert_exporter": "python",
   "pygments_lexer": "ipython3",
   "version": "3.9.13"
  },
  "orig_nbformat": 4
 },
 "nbformat": 4,
 "nbformat_minor": 2
}
