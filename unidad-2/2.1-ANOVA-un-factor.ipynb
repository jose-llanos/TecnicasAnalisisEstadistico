{
 "cells": [
  {
   "cell_type": "code",
   "execution_count": 4,
   "metadata": {},
   "outputs": [
    {
     "name": "stdout",
     "output_type": "stream",
     "text": [
      "Estadística F: 2.926144756277696\n",
      "valor p: 0.0922409886053889\n"
     ]
    }
   ],
   "source": [
    "# Paso 1: Importar las librerias\n",
    "# Libreria para operaciones matemáticas\n",
    "import numpy as np\n",
    "# Libreria para estadísticas\n",
    "from scipy import stats\n",
    "\n",
    "# Paso 2: Cargar los datos\n",
    "grupo_a = [85, 92, 88, 78, 90]\n",
    "grupo_b = [79, 88, 92, 68, 75]\n",
    "grupo_c = [92, 95, 91, 86, 89]\n",
    "\n",
    "# Paso 3: Realizar el anova\n",
    "f_statistic, p_value = stats.f_oneway(grupo_a, grupo_b, grupo_c)\n",
    "\n",
    "print(\"Estadística F:\", f_statistic)\n",
    "print(\"valor p:\", p_value)"
   ]
  }
 ],
 "metadata": {
  "kernelspec": {
   "display_name": "Python 3",
   "language": "python",
   "name": "python3"
  },
  "language_info": {
   "codemirror_mode": {
    "name": "ipython",
    "version": 3
   },
   "file_extension": ".py",
   "mimetype": "text/x-python",
   "name": "python",
   "nbconvert_exporter": "python",
   "pygments_lexer": "ipython3",
   "version": "3.9.13"
  },
  "orig_nbformat": 4
 },
 "nbformat": 4,
 "nbformat_minor": 2
}
